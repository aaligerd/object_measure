{
 "cells": [
  {
   "cell_type": "code",
   "execution_count": 40,
   "id": "944e8d84-e57d-4f92-80df-2f71e12668a6",
   "metadata": {},
   "outputs": [],
   "source": [
    "import cv2\n",
    "\n",
    "def main(image_path):\n",
    "    # Load the image\n",
    "    image = cv2.imread(image_path)\n",
    "    new_width = 1024\n",
    "    new_height = 576\n",
    "    image = cv2.resize(image, (new_width, new_height))\n",
    "\n",
    "    \n",
    "    # Convert the image to grayscale\n",
    "    gray = cv2.cvtColor(image, cv2.COLOR_BGR2GRAY)\n",
    "    \n",
    "    # Detect edges in the image\n",
    "    edges = cv2.Canny(gray, 50, 150)\n",
    "    \n",
    "    # Find contours in the edged image\n",
    "    contours, _ = cv2.findContours(edges, cv2.RETR_EXTERNAL, cv2.CHAIN_APPROX_SIMPLE)\n",
    "\n",
    "    \n",
    "    # Iterate over all contours\n",
    "    for contour in contours:\n",
    "        # Approximate the contour to a polygon\n",
    "        perimeter = cv2.arcLength(contour, True)\n",
    "        approx = cv2.approxPolyDP(contour, 0.02 * perimeter, True)\n",
    "        # If the contour has four vertices, it is likely a rectangle\n",
    "        if len(approx) == 4:\n",
    "            # Compute the bounding box of the contour\n",
    "            x, y, w, h = cv2.boundingRect(contour)\n",
    "\n",
    "            \n",
    "            # Draw the contour and dimensions on the image\n",
    "            cv2.rectangle(image, (x, y), (x + w, y + h), (0, 255, 0), 2)\n",
    "            cv2.putText(image, f'Width: {w}', (x, y - 10), cv2.FONT_HERSHEY_SIMPLEX, 0.5, (0, 255, 0), 2)\n",
    "            cv2.putText(image, f'Height: {h}', (x, y - 30), cv2.FONT_HERSHEY_SIMPLEX, 0.5, (0, 255, 0), 2)\n",
    "    \n",
    "    # Display the image\n",
    "    cv2.imshow('Measured Objects', image)\n",
    "    cv2.waitKey(0)\n",
    "    cv2.destroyAllWindows()\n",
    "\n",
    "if __name__ == \"__main__\":\n",
    "    # Input the path to the image file\n",
    "    image_path = 'box5.jpg'\n",
    "    main(image_path)\n"
   ]
  },
  {
   "cell_type": "code",
   "execution_count": null,
   "id": "3fa721cd-f930-4333-986d-205c5a17f8ad",
   "metadata": {},
   "outputs": [],
   "source": []
  }
 ],
 "metadata": {
  "kernelspec": {
   "display_name": "Python 3 (ipykernel)",
   "language": "python",
   "name": "python3"
  },
  "language_info": {
   "codemirror_mode": {
    "name": "ipython",
    "version": 3
   },
   "file_extension": ".py",
   "mimetype": "text/x-python",
   "name": "python",
   "nbconvert_exporter": "python",
   "pygments_lexer": "ipython3",
   "version": "3.11.5"
  }
 },
 "nbformat": 4,
 "nbformat_minor": 5
}
